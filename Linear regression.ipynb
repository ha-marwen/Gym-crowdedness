{
 "cells": [
  {
   "cell_type": "code",
   "execution_count": 1,
   "metadata": {},
   "outputs": [],
   "source": [
    "import pandas as pd"
   ]
  },
  {
   "cell_type": "code",
   "execution_count": 2,
   "metadata": {},
   "outputs": [],
   "source": [
    "df=pd.read_excel(r'C:/Users/hamar/Desktop/GL4 Sem2/Data Mining/Projet Data Mining/crowdedness-at-the-campus-gym/crowdedness_hour_clean.xlsx')"
   ]
  },
  {
   "cell_type": "code",
   "execution_count": 3,
   "metadata": {
    "scrolled": true
   },
   "outputs": [
    {
     "data": {
      "text/html": [
       "<div>\n",
       "<style>\n",
       "    .dataframe thead tr:only-child th {\n",
       "        text-align: right;\n",
       "    }\n",
       "\n",
       "    .dataframe thead th {\n",
       "        text-align: left;\n",
       "    }\n",
       "\n",
       "    .dataframe tbody tr th {\n",
       "        vertical-align: top;\n",
       "    }\n",
       "</style>\n",
       "<table border=\"1\" class=\"dataframe\">\n",
       "  <thead>\n",
       "    <tr style=\"text-align: right;\">\n",
       "      <th></th>\n",
       "      <th>number_people</th>\n",
       "      <th>day_of_week</th>\n",
       "      <th>is_weekend</th>\n",
       "      <th>is_holiday</th>\n",
       "      <th>is_start_of_semester</th>\n",
       "      <th>is_during_semester</th>\n",
       "      <th>month</th>\n",
       "      <th>hour</th>\n",
       "      <th>period_num</th>\n",
       "      <th>temperature</th>\n",
       "    </tr>\n",
       "  </thead>\n",
       "  <tbody>\n",
       "    <tr>\n",
       "      <th>0</th>\n",
       "      <td>0</td>\n",
       "      <td>4</td>\n",
       "      <td>0</td>\n",
       "      <td>0</td>\n",
       "      <td>0</td>\n",
       "      <td>0</td>\n",
       "      <td>1</td>\n",
       "      <td>0</td>\n",
       "      <td>3</td>\n",
       "      <td>7</td>\n",
       "    </tr>\n",
       "    <tr>\n",
       "      <th>1</th>\n",
       "      <td>0</td>\n",
       "      <td>4</td>\n",
       "      <td>0</td>\n",
       "      <td>0</td>\n",
       "      <td>0</td>\n",
       "      <td>0</td>\n",
       "      <td>1</td>\n",
       "      <td>1</td>\n",
       "      <td>3</td>\n",
       "      <td>6</td>\n",
       "    </tr>\n",
       "    <tr>\n",
       "      <th>2</th>\n",
       "      <td>0</td>\n",
       "      <td>4</td>\n",
       "      <td>0</td>\n",
       "      <td>0</td>\n",
       "      <td>0</td>\n",
       "      <td>0</td>\n",
       "      <td>1</td>\n",
       "      <td>5</td>\n",
       "      <td>3</td>\n",
       "      <td>5</td>\n",
       "    </tr>\n",
       "    <tr>\n",
       "      <th>3</th>\n",
       "      <td>0</td>\n",
       "      <td>4</td>\n",
       "      <td>0</td>\n",
       "      <td>0</td>\n",
       "      <td>0</td>\n",
       "      <td>0</td>\n",
       "      <td>1</td>\n",
       "      <td>6</td>\n",
       "      <td>0</td>\n",
       "      <td>5</td>\n",
       "    </tr>\n",
       "    <tr>\n",
       "      <th>4</th>\n",
       "      <td>0</td>\n",
       "      <td>4</td>\n",
       "      <td>0</td>\n",
       "      <td>0</td>\n",
       "      <td>0</td>\n",
       "      <td>0</td>\n",
       "      <td>1</td>\n",
       "      <td>7</td>\n",
       "      <td>0</td>\n",
       "      <td>5</td>\n",
       "    </tr>\n",
       "  </tbody>\n",
       "</table>\n",
       "</div>"
      ],
      "text/plain": [
       "   number_people  day_of_week  is_weekend  is_holiday  is_start_of_semester  \\\n",
       "0              0            4           0           0                     0   \n",
       "1              0            4           0           0                     0   \n",
       "2              0            4           0           0                     0   \n",
       "3              0            4           0           0                     0   \n",
       "4              0            4           0           0                     0   \n",
       "\n",
       "   is_during_semester  month  hour  period_num  temperature  \n",
       "0                   0      1     0           3            7  \n",
       "1                   0      1     1           3            6  \n",
       "2                   0      1     5           3            5  \n",
       "3                   0      1     6           0            5  \n",
       "4                   0      1     7           0            5  "
      ]
     },
     "execution_count": 3,
     "metadata": {},
     "output_type": "execute_result"
    }
   ],
   "source": [
    "df.head()"
   ]
  },
  {
   "cell_type": "code",
   "execution_count": 4,
   "metadata": {
    "scrolled": true
   },
   "outputs": [
    {
     "name": "stderr",
     "output_type": "stream",
     "text": [
      "C:\\Users\\hamar\\Anaconda3\\lib\\site-packages\\sklearn\\cross_validation.py:41: DeprecationWarning: This module was deprecated in version 0.18 in favor of the model_selection module into which all the refactored classes and functions are moved. Also note that the interface of the new CV iterators are different from that of this module. This module will be removed in 0.20.\n",
      "  \"This module will be removed in 0.20.\", DeprecationWarning)\n"
     ]
    }
   ],
   "source": [
    "from sklearn import linear_model\n",
    "from sklearn.cross_validation import train_test_split\n",
    "from sklearn.cross_validation import cross_val_score\n",
    "df1=df.copy()"
   ]
  },
  {
   "cell_type": "code",
   "execution_count": 5,
   "metadata": {},
   "outputs": [],
   "source": [
    "X=df1.drop('number_people',axis=1)\n",
    "y=df1.number_people"
   ]
  },
  {
   "cell_type": "code",
   "execution_count": 6,
   "metadata": {},
   "outputs": [],
   "source": [
    "Xtrain, Xtest, ytrain, ytest = train_test_split(X, y, test_size=0.3)\n"
   ]
  },
  {
   "cell_type": "code",
   "execution_count": 7,
   "metadata": {},
   "outputs": [
    {
     "data": {
      "text/plain": [
       "0.59587516265955021"
      ]
     },
     "execution_count": 7,
     "metadata": {},
     "output_type": "execute_result"
    }
   ],
   "source": [
    "model=linear_model.LinearRegression()\n",
    "model.fit(Xtrain,ytrain)\n",
    "model.score(Xtest,ytest)"
   ]
  },
  {
   "cell_type": "code",
   "execution_count": 8,
   "metadata": {},
   "outputs": [
    {
     "data": {
      "text/html": [
       "<div>\n",
       "<style>\n",
       "    .dataframe thead tr:only-child th {\n",
       "        text-align: right;\n",
       "    }\n",
       "\n",
       "    .dataframe thead th {\n",
       "        text-align: left;\n",
       "    }\n",
       "\n",
       "    .dataframe tbody tr th {\n",
       "        vertical-align: top;\n",
       "    }\n",
       "</style>\n",
       "<table border=\"1\" class=\"dataframe\">\n",
       "  <thead>\n",
       "    <tr style=\"text-align: right;\">\n",
       "      <th></th>\n",
       "      <th>number_people</th>\n",
       "      <th>day_of_week</th>\n",
       "      <th>is_weekend</th>\n",
       "      <th>is_holiday</th>\n",
       "      <th>is_start_of_semester</th>\n",
       "      <th>is_during_semester</th>\n",
       "      <th>month</th>\n",
       "      <th>hour</th>\n",
       "      <th>period_num</th>\n",
       "      <th>temperature</th>\n",
       "      <th>predicted</th>\n",
       "    </tr>\n",
       "  </thead>\n",
       "  <tbody>\n",
       "    <tr>\n",
       "      <th>0</th>\n",
       "      <td>0</td>\n",
       "      <td>4</td>\n",
       "      <td>0</td>\n",
       "      <td>0</td>\n",
       "      <td>0</td>\n",
       "      <td>0</td>\n",
       "      <td>1</td>\n",
       "      <td>0</td>\n",
       "      <td>3</td>\n",
       "      <td>7</td>\n",
       "      <td>0.0</td>\n",
       "    </tr>\n",
       "    <tr>\n",
       "      <th>1</th>\n",
       "      <td>0</td>\n",
       "      <td>4</td>\n",
       "      <td>0</td>\n",
       "      <td>0</td>\n",
       "      <td>0</td>\n",
       "      <td>0</td>\n",
       "      <td>1</td>\n",
       "      <td>1</td>\n",
       "      <td>3</td>\n",
       "      <td>6</td>\n",
       "      <td>1.0</td>\n",
       "    </tr>\n",
       "    <tr>\n",
       "      <th>2</th>\n",
       "      <td>0</td>\n",
       "      <td>4</td>\n",
       "      <td>0</td>\n",
       "      <td>0</td>\n",
       "      <td>0</td>\n",
       "      <td>0</td>\n",
       "      <td>1</td>\n",
       "      <td>5</td>\n",
       "      <td>3</td>\n",
       "      <td>5</td>\n",
       "      <td>7.0</td>\n",
       "    </tr>\n",
       "    <tr>\n",
       "      <th>3</th>\n",
       "      <td>0</td>\n",
       "      <td>4</td>\n",
       "      <td>0</td>\n",
       "      <td>0</td>\n",
       "      <td>0</td>\n",
       "      <td>0</td>\n",
       "      <td>1</td>\n",
       "      <td>6</td>\n",
       "      <td>0</td>\n",
       "      <td>5</td>\n",
       "      <td>14.0</td>\n",
       "    </tr>\n",
       "    <tr>\n",
       "      <th>4</th>\n",
       "      <td>0</td>\n",
       "      <td>4</td>\n",
       "      <td>0</td>\n",
       "      <td>0</td>\n",
       "      <td>0</td>\n",
       "      <td>0</td>\n",
       "      <td>1</td>\n",
       "      <td>7</td>\n",
       "      <td>0</td>\n",
       "      <td>5</td>\n",
       "      <td>15.0</td>\n",
       "    </tr>\n",
       "  </tbody>\n",
       "</table>\n",
       "</div>"
      ],
      "text/plain": [
       "   number_people  day_of_week  is_weekend  is_holiday  is_start_of_semester  \\\n",
       "0              0            4           0           0                     0   \n",
       "1              0            4           0           0                     0   \n",
       "2              0            4           0           0                     0   \n",
       "3              0            4           0           0                     0   \n",
       "4              0            4           0           0                     0   \n",
       "\n",
       "   is_during_semester  month  hour  period_num  temperature  predicted  \n",
       "0                   0      1     0           3            7        0.0  \n",
       "1                   0      1     1           3            6        1.0  \n",
       "2                   0      1     5           3            5        7.0  \n",
       "3                   0      1     6           0            5       14.0  \n",
       "4                   0      1     7           0            5       15.0  "
      ]
     },
     "execution_count": 8,
     "metadata": {},
     "output_type": "execute_result"
    }
   ],
   "source": [
    "import numpy as np\n",
    "predicted=model.predict(X)\n",
    "predicted=np.round(predicted)\n",
    "df['predicted']=predicted\n",
    "df.head()"
   ]
  },
  {
   "cell_type": "code",
   "execution_count": 9,
   "metadata": {},
   "outputs": [],
   "source": [
    "coeff=pd.DataFrame([X.columns,model.coef_])"
   ]
  },
  {
   "cell_type": "code",
   "execution_count": 10,
   "metadata": {},
   "outputs": [
    {
     "data": {
      "text/html": [
       "<div>\n",
       "<style>\n",
       "    .dataframe thead tr:only-child th {\n",
       "        text-align: right;\n",
       "    }\n",
       "\n",
       "    .dataframe thead th {\n",
       "        text-align: left;\n",
       "    }\n",
       "\n",
       "    .dataframe tbody tr th {\n",
       "        vertical-align: top;\n",
       "    }\n",
       "</style>\n",
       "<table border=\"1\" class=\"dataframe\">\n",
       "  <thead>\n",
       "    <tr style=\"text-align: right;\">\n",
       "      <th></th>\n",
       "      <th>0</th>\n",
       "      <th>1</th>\n",
       "      <th>2</th>\n",
       "      <th>3</th>\n",
       "      <th>4</th>\n",
       "      <th>5</th>\n",
       "      <th>6</th>\n",
       "      <th>7</th>\n",
       "      <th>8</th>\n",
       "    </tr>\n",
       "  </thead>\n",
       "  <tbody>\n",
       "    <tr>\n",
       "      <th>0</th>\n",
       "      <td>day_of_week</td>\n",
       "      <td>is_weekend</td>\n",
       "      <td>is_holiday</td>\n",
       "      <td>is_start_of_semester</td>\n",
       "      <td>is_during_semester</td>\n",
       "      <td>month</td>\n",
       "      <td>hour</td>\n",
       "      <td>period_num</td>\n",
       "      <td>temperature</td>\n",
       "    </tr>\n",
       "    <tr>\n",
       "      <th>1</th>\n",
       "      <td>-0.602015</td>\n",
       "      <td>-5.98095</td>\n",
       "      <td>-18.7808</td>\n",
       "      <td>6.9794</td>\n",
       "      <td>8.68109</td>\n",
       "      <td>-1.52385</td>\n",
       "      <td>1.63508</td>\n",
       "      <td>-1.77321</td>\n",
       "      <td>0.965336</td>\n",
       "    </tr>\n",
       "  </tbody>\n",
       "</table>\n",
       "</div>"
      ],
      "text/plain": [
       "             0           1           2                     3  \\\n",
       "0  day_of_week  is_weekend  is_holiday  is_start_of_semester   \n",
       "1    -0.602015    -5.98095    -18.7808                6.9794   \n",
       "\n",
       "                    4        5        6           7            8  \n",
       "0  is_during_semester    month     hour  period_num  temperature  \n",
       "1             8.68109 -1.52385  1.63508    -1.77321     0.965336  "
      ]
     },
     "execution_count": 10,
     "metadata": {},
     "output_type": "execute_result"
    }
   ],
   "source": [
    "coeff"
   ]
  },
  {
   "cell_type": "code",
   "execution_count": 11,
   "metadata": {
    "scrolled": true
   },
   "outputs": [],
   "source": [
    "coeff_temp=pd.to_numeric(coeff[8][1])\n",
    "coeff_hour=pd.to_numeric(coeff[6][1])\n",
    "coeff_period=pd.to_numeric(coeff[7][1])\n",
    "coeff_month=pd.to_numeric(coeff[5][1])\n",
    "coeff_start_sem=pd.to_numeric(coeff[3][1])\n",
    "coeff_during_sem=pd.to_numeric(coeff[4][1])\n",
    "coeff_day=pd.to_numeric(coeff[0][1])\n"
   ]
  },
  {
   "cell_type": "code",
   "execution_count": 12,
   "metadata": {
    "scrolled": true
   },
   "outputs": [
    {
     "data": {
      "text/plain": [
       "2.865749027145732"
      ]
     },
     "execution_count": 12,
     "metadata": {},
     "output_type": "execute_result"
    }
   ],
   "source": [
    "cte = model.intercept_\n",
    "cte"
   ]
  },
  {
   "cell_type": "code",
   "execution_count": 13,
   "metadata": {},
   "outputs": [],
   "source": [
    "import numpy as np"
   ]
  },
  {
   "cell_type": "code",
   "execution_count": 14,
   "metadata": {},
   "outputs": [],
   "source": [
    "def convertDayToNum(day):\n",
    "    if (day=='Lundi') : \n",
    "        return 0\n",
    "    elif (day=='Mardi') : \n",
    "        return 1\n",
    "    elif(day=='Mercredi'):\n",
    "        return 2\n",
    "    elif(day=='Jeudi'):\n",
    "        return 3\n",
    "    elif (day=='Vendredi'):\n",
    "        return 4\n",
    "    elif (day=='Samedi'):\n",
    "        return 5 \n",
    "    elif(day=='Dimanche'):\n",
    "        return 6"
   ]
  },
  {
   "cell_type": "code",
   "execution_count": 15,
   "metadata": {},
   "outputs": [],
   "source": [
    "def convertNumToPeriod(period_num):\n",
    "    if (period_num==0) : \n",
    "        return 'le matin'\n",
    "    elif (period_num==1) : \n",
    "        return 'l\\'après midi'\n",
    "    elif(period_num==2):\n",
    "        return 'le soir'\n",
    "    elif(period_num==3):\n",
    "        return 'tard la nuit'"
   ]
  },
  {
   "cell_type": "code",
   "execution_count": 16,
   "metadata": {},
   "outputs": [],
   "source": [
    "def convertHourtoPeriod(hour):\n",
    "    if (hour>=6) & (hour<12) :\n",
    "        return 0\n",
    "    elif (hour>=12) & (hour<18) :\n",
    "        return 1\n",
    "    elif (hour>=18) & (hour<22) :\n",
    "        return 2\n",
    "    elif (hour>=22) & (hour<6) :\n",
    "        return 3"
   ]
  },
  {
   "cell_type": "code",
   "execution_count": 17,
   "metadata": {},
   "outputs": [],
   "source": [
    "def OutputCrowdednessPredictions(day,temp,hour) :\n",
    "    day=convertDayToNum(day)\n",
    "    predict = np.round((coeff_temp*temp +coeff_hour*hour+coeff_day*day + cte))\n",
    "    predict_percentage = np.round((predict/70)*100)\n",
    "    nombre_min=df[df.temperature==temp][df.hour==hour][df.day_of_week==day]['predicted'].min()\n",
    "    predicted_period_num = df[df.temperature==temp][df.hour==hour][df.day_of_week==day][df.predicted==nombre_min]['period_num'].min()\n",
    "    period = convertHourtoPeriod(hour)\n",
    "    predicted_period=convertNumToPeriod(np.round(predicted_period_num))   \n",
    "    if((predict_percentage > 50) & (period != predicted_period_num) ) :\n",
    "        print(\"La salle de sport est à {}% occupée, Elle pourrait être moins encombrée {} \".format(predict_percentage,predicted_period))\n",
    "    else :\n",
    "        print(\"La salle de sport est à {}% occupée\".format(predict_percentage))"
   ]
  },
  {
   "cell_type": "code",
   "execution_count": 18,
   "metadata": {
    "scrolled": true
   },
   "outputs": [
    {
     "name": "stdout",
     "output_type": "stream",
     "text": [
      "Quel jour de la semaine ? : \n",
      "\n",
      "Lundi\n",
      "A quelle heure souhaitez-vous aller à la salle de sport ? : \n",
      "\n",
      "22\n",
      "La température enregistrée aujoud'hui: \n",
      " \n",
      "10\n",
      "La salle de sport est à 69.0% occupée, Elle pourrait être moins encombrée tard la nuit \n"
     ]
    },
    {
     "name": "stderr",
     "output_type": "stream",
     "text": [
      "C:\\Users\\hamar\\Anaconda3\\lib\\site-packages\\ipykernel_launcher.py:5: UserWarning: Boolean Series key will be reindexed to match DataFrame index.\n",
      "  \"\"\"\n",
      "C:\\Users\\hamar\\Anaconda3\\lib\\site-packages\\ipykernel_launcher.py:6: UserWarning: Boolean Series key will be reindexed to match DataFrame index.\n",
      "  \n"
     ]
    }
   ],
   "source": [
    "print (\"Quel jour de la semaine ? : \\n\")\n",
    "day=input()\n",
    "print (\"A quelle heure souhaitez-vous aller à la salle de sport ? : \\n\")\n",
    "hour=int(input())\n",
    "print(\"La température enregistrée aujoud'hui: \\n \")\n",
    "temperature = int(input())\n",
    "OutputCrowdednessPredictions(day,temperature,hour)\n"
   ]
  },
  {
   "cell_type": "code",
   "execution_count": 19,
   "metadata": {},
   "outputs": [],
   "source": [
    "from sklearn.utils import resample\n",
    "np.random.seed(1)\n",
    "err = np.std([model.fit(*resample(X, y)).coef_\n",
    "              for i in range(1000)], 0)"
   ]
  },
  {
   "cell_type": "code",
   "execution_count": 20,
   "metadata": {},
   "outputs": [
    {
     "name": "stdout",
     "output_type": "stream",
     "text": [
      "                      effect     error\n",
      "day_of_week             -1.0  0.117043\n",
      "is_weekend              -7.0  0.504865\n",
      "is_holiday             -18.0  2.408219\n",
      "is_start_of_semester     7.0  0.704130\n",
      "is_during_semester       9.0  0.260904\n",
      "month                   -2.0  0.042264\n",
      "hour                     2.0  0.022840\n",
      "period_num              -2.0  0.109409\n",
      "temperature              1.0  0.044633 <built-in function sorted>\n"
     ]
    }
   ],
   "source": [
    "params = pd.Series(model.coef_, index=X.columns)\n",
    "print(pd.DataFrame({'effect': params.round(0),\n",
    "                    'error': err}),sorted)"
   ]
  },
  {
   "cell_type": "code",
   "execution_count": null,
   "metadata": {},
   "outputs": [],
   "source": []
  }
 ],
 "metadata": {
  "kernelspec": {
   "display_name": "Python 3",
   "language": "python",
   "name": "python3"
  },
  "language_info": {
   "codemirror_mode": {
    "name": "ipython",
    "version": 3
   },
   "file_extension": ".py",
   "mimetype": "text/x-python",
   "name": "python",
   "nbconvert_exporter": "python",
   "pygments_lexer": "ipython3",
   "version": "3.6.5"
  }
 },
 "nbformat": 4,
 "nbformat_minor": 2
}
